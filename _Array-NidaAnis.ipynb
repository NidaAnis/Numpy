{
 "cells": [
  {
   "cell_type": "code",
   "execution_count": 8,
   "id": "7d619395-f191-4eac-a792-0791bc19e3bb",
   "metadata": {},
   "outputs": [],
   "source": [
    "import numpy as numpy"
   ]
  },
  {
   "cell_type": "code",
   "execution_count": 6,
   "id": "a23aa5b3-626c-478d-bb39-e5f31e5ee5be",
   "metadata": {},
   "outputs": [
    {
     "data": {
      "text/plain": [
       "array([1, 2, 3, 4])"
      ]
     },
     "execution_count": 6,
     "metadata": {},
     "output_type": "execute_result"
    }
   ],
   "source": [
    "arr= numpy.array([1,2,3,4])\n",
    "arr"
   ]
  },
  {
   "cell_type": "code",
   "execution_count": 14,
   "id": "0d8daeef-603b-4092-ade9-32f563f9b16f",
   "metadata": {},
   "outputs": [
    {
     "data": {
      "text/plain": [
       "[1, 2, 3.3, 4.5]"
      ]
     },
     "execution_count": 14,
     "metadata": {},
     "output_type": "execute_result"
    }
   ],
   "source": [
    "a=[1,2,3.3,4.5]\n",
    "a"
   ]
  },
  {
   "cell_type": "code",
   "execution_count": 16,
   "id": "2ae9134c-b80e-430c-82b6-dfaf79815430",
   "metadata": {},
   "outputs": [
    {
     "data": {
      "text/plain": [
       "array([1. , 2. , 3.3, 4.5])"
      ]
     },
     "execution_count": 16,
     "metadata": {},
     "output_type": "execute_result"
    }
   ],
   "source": [
    "numpy.array(a)"
   ]
  },
  {
   "cell_type": "code",
   "execution_count": 17,
   "id": "50013fee-fa05-41ea-be5b-22a0e52564cb",
   "metadata": {},
   "outputs": [
    {
     "data": {
      "text/plain": [
       "[[1, 2, 3], [4, 5, 6], [7, 8, 9]]"
      ]
     },
     "execution_count": 17,
     "metadata": {},
     "output_type": "execute_result"
    }
   ],
   "source": [
    "l=[[1,2,3],[4,5,6],[7,8,9]]\n",
    "l"
   ]
  },
  {
   "cell_type": "code",
   "execution_count": 18,
   "id": "df8f8597-23e6-4586-b283-c3151c20342e",
   "metadata": {},
   "outputs": [
    {
     "data": {
      "text/plain": [
       "array([[1, 2, 3],\n",
       "       [4, 5, 6],\n",
       "       [7, 8, 9]])"
      ]
     },
     "execution_count": 18,
     "metadata": {},
     "output_type": "execute_result"
    }
   ],
   "source": [
    "numpy.array(l)"
   ]
  },
  {
   "cell_type": "code",
   "execution_count": 20,
   "id": "67ea4543-baa2-4298-bdac-1741d673291f",
   "metadata": {},
   "outputs": [
    {
     "data": {
      "text/plain": [
       "array([1, 3, 5, 7, 9])"
      ]
     },
     "execution_count": 20,
     "metadata": {},
     "output_type": "execute_result"
    }
   ],
   "source": [
    "arr= numpy.arange(1,11,2)\n",
    "arr"
   ]
  },
  {
   "cell_type": "code",
   "execution_count": 22,
   "id": "7130ad4d-74b4-4b6f-b43d-863081c3b583",
   "metadata": {},
   "outputs": [
    {
     "data": {
      "text/plain": [
       "array([[0., 0., 0., 0., 0.],\n",
       "       [0., 0., 0., 0., 0.],\n",
       "       [0., 0., 0., 0., 0.],\n",
       "       [0., 0., 0., 0., 0.],\n",
       "       [0., 0., 0., 0., 0.]])"
      ]
     },
     "execution_count": 22,
     "metadata": {},
     "output_type": "execute_result"
    }
   ],
   "source": [
    "numpy.zeros((5,5))"
   ]
  },
  {
   "cell_type": "code",
   "execution_count": 30,
   "id": "d7efa3ac-f470-4797-a1c1-7114f45b30ed",
   "metadata": {},
   "outputs": [
    {
     "data": {
      "text/plain": [
       "array([ 1.  ,  3.25,  5.5 ,  7.75, 10.  ])"
      ]
     },
     "execution_count": 30,
     "metadata": {},
     "output_type": "execute_result"
    }
   ],
   "source": [
    "arr = numpy.linspace(1,10,5)\n",
    "arr"
   ]
  },
  {
   "cell_type": "code",
   "execution_count": 31,
   "id": "34b25ac8-c2a4-41aa-b35a-a103e756a52c",
   "metadata": {},
   "outputs": [
    {
     "data": {
      "text/plain": [
       "array([0.42766373, 0.72041306, 0.68911251, 0.04618604, 0.98437483])"
      ]
     },
     "execution_count": 31,
     "metadata": {},
     "output_type": "execute_result"
    }
   ],
   "source": [
    "numpy.random.rand(5)"
   ]
  },
  {
   "cell_type": "code",
   "execution_count": 36,
   "id": "1a86239c-5d0d-447b-ac40-0475eec1a3a1",
   "metadata": {},
   "outputs": [
    {
     "data": {
      "text/plain": [
       "array([-1.07097989,  1.76517142, -0.69504309, -1.48456484, -0.64993052,\n",
       "        0.18442635,  2.07236488,  0.96658776, -0.93706875,  1.62198858,\n",
       "        0.44738138, -1.55303661, -0.40296524,  0.63187484, -0.56954959,\n",
       "        1.69558504,  0.81540355, -1.47247057,  0.77460795, -1.49017533,\n",
       "        0.54057274,  0.72656959, -2.22160428, -0.03071308, -0.3932781 ,\n",
       "        0.73639527,  0.95741683, -0.47962896,  1.03491377, -0.04890756,\n",
       "       -0.48858365,  0.66532105,  0.55963273, -0.53218526, -0.38401201,\n",
       "        1.419607  , -0.9673058 , -0.51313878, -0.15135198,  0.80979311,\n",
       "       -1.92376808, -0.09663119, -0.87075019, -0.28878837, -0.58037859,\n",
       "        2.27009379, -1.64976271,  1.41815559,  0.53389322,  0.58643968,\n",
       "        0.98289002, -0.23699702, -0.20721122, -0.67048457,  1.40447188,\n",
       "       -0.39359112,  0.93177384, -1.04980212, -0.42928862, -0.6377856 ,\n",
       "        0.53955453, -0.37288477,  0.84746589, -1.54885698,  0.25355091,\n",
       "        0.80922373,  0.53212069,  0.57378596,  0.95787691, -0.23217727,\n",
       "        1.14259015, -1.25481466,  0.16690815, -0.70481832, -0.68144237,\n",
       "       -0.14128598, -1.06717714,  0.55314104,  0.5008589 ,  0.28306076,\n",
       "       -0.99217975,  0.0078344 , -1.62788058,  0.45600769,  0.55218798,\n",
       "        0.80863174, -1.16125076, -0.38636982, -2.56234398,  0.94565471,\n",
       "       -0.05266171, -0.83595133,  0.59307809,  1.03985284,  0.48191269,\n",
       "        0.40862227,  0.08112882,  1.37643307, -1.56560493,  0.08238187])"
      ]
     },
     "execution_count": 36,
     "metadata": {},
     "output_type": "execute_result"
    }
   ],
   "source": [
    "numpy.random.randn(100)"
   ]
  },
  {
   "cell_type": "code",
   "execution_count": 40,
   "id": "bf9e7bcf-ffe6-4cfd-b06e-58367bbffc7a",
   "metadata": {},
   "outputs": [
    {
     "data": {
      "text/plain": [
       "array([87, 26, 16, 78, 38], dtype=int32)"
      ]
     },
     "execution_count": 40,
     "metadata": {},
     "output_type": "execute_result"
    }
   ],
   "source": [
    "numpy.random.randint(10, 100, 5)"
   ]
  },
  {
   "cell_type": "code",
   "execution_count": 42,
   "id": "c11f9deb-e01e-450c-90d0-b794c7646787",
   "metadata": {},
   "outputs": [
    {
     "data": {
      "text/plain": [
       "array([[1, 2, 3],\n",
       "       [4, 5, 6],\n",
       "       [7, 8, 9]])"
      ]
     },
     "execution_count": 42,
     "metadata": {},
     "output_type": "execute_result"
    }
   ],
   "source": [
    "arr = numpy.array([[1,2,3],[4,5,6],[7,8,9]])\n",
    "arr"
   ]
  },
  {
   "cell_type": "code",
   "execution_count": 43,
   "id": "99cc003d-48c2-410a-90ff-e5a02eb3e600",
   "metadata": {},
   "outputs": [
    {
     "data": {
      "text/plain": [
       "(3, 3)"
      ]
     },
     "execution_count": 43,
     "metadata": {},
     "output_type": "execute_result"
    }
   ],
   "source": [
    "arr.shape"
   ]
  },
  {
   "cell_type": "code",
   "execution_count": 44,
   "id": "d8f1f1e9-4d8c-4000-a0a3-6b9a702a82a1",
   "metadata": {},
   "outputs": [
    {
     "data": {
      "text/plain": [
       "9"
      ]
     },
     "execution_count": 44,
     "metadata": {},
     "output_type": "execute_result"
    }
   ],
   "source": [
    "arr.size"
   ]
  },
  {
   "cell_type": "code",
   "execution_count": 45,
   "id": "d362473c-da54-485f-b752-420cacf45319",
   "metadata": {},
   "outputs": [
    {
     "data": {
      "text/plain": [
       "dtype('int64')"
      ]
     },
     "execution_count": 45,
     "metadata": {},
     "output_type": "execute_result"
    }
   ],
   "source": [
    "arr.dtype"
   ]
  },
  {
   "cell_type": "code",
   "execution_count": 46,
   "id": "44f748ad-dc66-48ea-93e6-034a2e0611d9",
   "metadata": {},
   "outputs": [
    {
     "data": {
      "text/plain": [
       "array([ 1,  2,  3,  4,  5,  6,  7,  8,  9, 10, 11, 12, 13, 14, 15, 16, 17,\n",
       "       18, 19, 20, 21, 22, 23, 24, 25, 26, 27, 28, 29, 30])"
      ]
     },
     "execution_count": 46,
     "metadata": {},
     "output_type": "execute_result"
    }
   ],
   "source": [
    "arr = numpy.arange(1,31)\n",
    "arr"
   ]
  },
  {
   "cell_type": "code",
   "execution_count": 49,
   "id": "5c918224-362a-4747-9fbb-33102c2d2bff",
   "metadata": {},
   "outputs": [
    {
     "data": {
      "text/plain": [
       "array([[ 1,  2,  3,  4,  5],\n",
       "       [ 6,  7,  8,  9, 10],\n",
       "       [11, 12, 13, 14, 15],\n",
       "       [16, 17, 18, 19, 20],\n",
       "       [21, 22, 23, 24, 25],\n",
       "       [26, 27, 28, 29, 30]])"
      ]
     },
     "execution_count": 49,
     "metadata": {},
     "output_type": "execute_result"
    }
   ],
   "source": [
    "arr.reshape(6,5)"
   ]
  },
  {
   "cell_type": "code",
   "execution_count": null,
   "id": "c7d4f674-e519-4cf0-8527-eee8dd84e474",
   "metadata": {},
   "outputs": [],
   "source": []
  }
 ],
 "metadata": {
  "kernelspec": {
   "display_name": "Python 3 (ipykernel)",
   "language": "python",
   "name": "python3"
  },
  "language_info": {
   "codemirror_mode": {
    "name": "ipython",
    "version": 3
   },
   "file_extension": ".py",
   "mimetype": "text/x-python",
   "name": "python",
   "nbconvert_exporter": "python",
   "pygments_lexer": "ipython3",
   "version": "3.13.5"
  }
 },
 "nbformat": 4,
 "nbformat_minor": 5
}
